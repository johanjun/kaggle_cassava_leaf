{
  "nbformat": 4,
  "nbformat_minor": 0,
  "metadata": {
    "colab": {
      "name": "Cassava_v2.ipynb",
      "provenance": [],
      "machine_shape": "hm",
      "mount_file_id": "1SiYOr15DxCGL0cmQSAj8VAkbtRiVW4I4",
      "authorship_tag": "ABX9TyOb5XBh2T6jCNztbDPeYpYD",
      "include_colab_link": true
    },
    "kernelspec": {
      "name": "python3",
      "display_name": "Python 3"
    },
    "language_info": {
      "name": "python"
    },
    "accelerator": "GPU"
  },
  "cells": [
    {
      "cell_type": "markdown",
      "metadata": {
        "id": "view-in-github",
        "colab_type": "text"
      },
      "source": [
        "<a href=\"https://colab.research.google.com/github/johanjun/kaggle_cassava_leaf/blob/main/Cassava_v2.ipynb\" target=\"_parent\"><img src=\"https://colab.research.google.com/assets/colab-badge.svg\" alt=\"Open In Colab\"/></a>"
      ]
    },
    {
      "cell_type": "markdown",
      "metadata": {
        "id": "HRxYlgGDSGnI"
      },
      "source": [
        "# Library import"
      ]
    },
    {
      "cell_type": "code",
      "metadata": {
        "id": "aXK_dz5HRF57"
      },
      "source": [
        "## library import\n",
        "import tensorflow as tf\n",
        "from tensorflow import keras\n",
        "import numpy as np\n",
        "import pandas as pd\n",
        "import os\n",
        "import re\n",
        "from PIL import Image\n",
        "import shutil\n",
        "from sklearn.model_selection import train_test_split\n",
        "import random\n",
        "import matplotlib.pyplot as plt\n",
        "from matplotlib.patches import Rectangle\n",
        "import xml.etree.ElementTree as et\n",
        "import json\n",
        "import pprint"
      ],
      "execution_count": 1,
      "outputs": []
    },
    {
      "cell_type": "markdown",
      "metadata": {
        "id": "1pT-_xO4SJgX"
      },
      "source": [
        "# Data load"
      ]
    },
    {
      "cell_type": "code",
      "metadata": {
        "colab": {
          "base_uri": "https://localhost:8080/"
        },
        "id": "a4B3vli_Ryob",
        "outputId": "07272df2-ed8a-485a-c057-7716332496d6"
      },
      "source": [
        "%cd /content/drive/MyDrive/Cassava_Leaf"
      ],
      "execution_count": 2,
      "outputs": [
        {
          "output_type": "stream",
          "text": [
            "/content/drive/MyDrive/Cassava_Leaf\n"
          ],
          "name": "stdout"
        }
      ]
    },
    {
      "cell_type": "code",
      "metadata": {
        "colab": {
          "base_uri": "https://localhost:8080/",
          "height": 35
        },
        "id": "AuSFdXGyRunR",
        "outputId": "ff8b5d19-150e-43d9-bfc8-f5dc2f86ddac"
      },
      "source": [
        "os.getcwd()"
      ],
      "execution_count": 3,
      "outputs": [
        {
          "output_type": "execute_result",
          "data": {
            "application/vnd.google.colaboratory.intrinsic+json": {
              "type": "string"
            },
            "text/plain": [
              "'/content/drive/MyDrive/Cassava_Leaf'"
            ]
          },
          "metadata": {
            "tags": []
          },
          "execution_count": 3
        }
      ]
    },
    {
      "cell_type": "code",
      "metadata": {
        "id": "pUMkXj5FRLIq"
      },
      "source": [
        "## directory 설정\n",
        "cur_dir = os.getcwd()\n",
        "data_dir = os.path.join(cur_dir, 'data')\n",
        "image_dir = os.path.join(data_dir, 'train_images')"
      ],
      "execution_count": 4,
      "outputs": []
    },
    {
      "cell_type": "code",
      "metadata": {
        "colab": {
          "base_uri": "https://localhost:8080/"
        },
        "id": "G8uHg8B8SBYO",
        "outputId": "e06dd73a-dc92-4f59-bfa7-14da48020139"
      },
      "source": [
        "## image file 수 확인\n",
        "image_files = [fname for fname in os.listdir(image_dir) if os.path.splitext(fname)[-1] == '.jpg'] #확장자 분리\n",
        "print(len(image_files))"
      ],
      "execution_count": 5,
      "outputs": [
        {
          "output_type": "stream",
          "text": [
            "21397\n"
          ],
          "name": "stdout"
        }
      ]
    },
    {
      "cell_type": "code",
      "metadata": {
        "colab": {
          "base_uri": "https://localhost:8080/"
        },
        "id": "bnJRPpvhU-li",
        "outputId": "b3bc31dc-f12d-4155-97f0-20fc64222266"
      },
      "source": [
        "image_files[:10]"
      ],
      "execution_count": 6,
      "outputs": [
        {
          "output_type": "execute_result",
          "data": {
            "text/plain": [
              "['787914923.jpg',\n",
              " '822641071.jpg',\n",
              " '810351903.jpg',\n",
              " '813744167.jpg',\n",
              " '821592762.jpg',\n",
              " '803715275.jpg',\n",
              " '816689138.jpg',\n",
              " '787415998.jpg',\n",
              " '813217011.jpg',\n",
              " '793206643.jpg']"
            ]
          },
          "metadata": {
            "tags": []
          },
          "execution_count": 6
        }
      ]
    },
    {
      "cell_type": "code",
      "metadata": {
        "colab": {
          "base_uri": "https://localhost:8080/"
        },
        "id": "0fROQko2SDoX",
        "outputId": "0bc36b2e-fde3-4e29-88e7-1a93fc85472a"
      },
      "source": [
        "with open(os.path.join(data_dir, 'label_num_to_disease_map.json')) as f:\n",
        "    mapping = json.loads(f.read())\n",
        "    pprint.pprint(mapping)"
      ],
      "execution_count": 7,
      "outputs": [
        {
          "output_type": "stream",
          "text": [
            "{'0': 'Cassava Bacterial Blight (CBB)',\n",
            " '1': 'Cassava Brown Streak Disease (CBSD)',\n",
            " '2': 'Cassava Green Mottle (CGM)',\n",
            " '3': 'Cassava Mosaic Disease (CMD)',\n",
            " '4': 'Healthy'}\n"
          ],
          "name": "stdout"
        }
      ]
    },
    {
      "cell_type": "markdown",
      "metadata": {
        "id": "8T64nG8nY0aI"
      },
      "source": [
        "## data split by label"
      ]
    },
    {
      "cell_type": "code",
      "metadata": {
        "colab": {
          "base_uri": "https://localhost:8080/",
          "height": 204
        },
        "id": "WIfC-G48VeN2",
        "outputId": "1937c9cb-2ff4-497b-93b5-7dd5550434ed"
      },
      "source": [
        "with open(os.path.join(data_dir, 'train.csv')) as f:\n",
        "    df_train = pd.read_csv(f)\n",
        "\n",
        "df_train.head()"
      ],
      "execution_count": 9,
      "outputs": [
        {
          "output_type": "execute_result",
          "data": {
            "text/html": [
              "<div>\n",
              "<style scoped>\n",
              "    .dataframe tbody tr th:only-of-type {\n",
              "        vertical-align: middle;\n",
              "    }\n",
              "\n",
              "    .dataframe tbody tr th {\n",
              "        vertical-align: top;\n",
              "    }\n",
              "\n",
              "    .dataframe thead th {\n",
              "        text-align: right;\n",
              "    }\n",
              "</style>\n",
              "<table border=\"1\" class=\"dataframe\">\n",
              "  <thead>\n",
              "    <tr style=\"text-align: right;\">\n",
              "      <th></th>\n",
              "      <th>image_id</th>\n",
              "      <th>label</th>\n",
              "    </tr>\n",
              "  </thead>\n",
              "  <tbody>\n",
              "    <tr>\n",
              "      <th>0</th>\n",
              "      <td>1000015157.jpg</td>\n",
              "      <td>0</td>\n",
              "    </tr>\n",
              "    <tr>\n",
              "      <th>1</th>\n",
              "      <td>1000201771.jpg</td>\n",
              "      <td>3</td>\n",
              "    </tr>\n",
              "    <tr>\n",
              "      <th>2</th>\n",
              "      <td>100042118.jpg</td>\n",
              "      <td>1</td>\n",
              "    </tr>\n",
              "    <tr>\n",
              "      <th>3</th>\n",
              "      <td>1000723321.jpg</td>\n",
              "      <td>1</td>\n",
              "    </tr>\n",
              "    <tr>\n",
              "      <th>4</th>\n",
              "      <td>1000812911.jpg</td>\n",
              "      <td>3</td>\n",
              "    </tr>\n",
              "  </tbody>\n",
              "</table>\n",
              "</div>"
            ],
            "text/plain": [
              "         image_id  label\n",
              "0  1000015157.jpg      0\n",
              "1  1000201771.jpg      3\n",
              "2   100042118.jpg      1\n",
              "3  1000723321.jpg      1\n",
              "4  1000812911.jpg      3"
            ]
          },
          "metadata": {
            "tags": []
          },
          "execution_count": 9
        }
      ]
    },
    {
      "cell_type": "code",
      "metadata": {
        "colab": {
          "base_uri": "https://localhost:8080/"
        },
        "id": "Utdt20iTYge0",
        "outputId": "90dd1b36-d827-4451-9956-8403d9dc438d"
      },
      "source": [
        "df1 = df_train[df_train.label==1]\n",
        "df1.label.value_counts()"
      ],
      "execution_count": 10,
      "outputs": [
        {
          "output_type": "execute_result",
          "data": {
            "text/plain": [
              "1    2189\n",
              "Name: label, dtype: int64"
            ]
          },
          "metadata": {
            "tags": []
          },
          "execution_count": 10
        }
      ]
    },
    {
      "cell_type": "code",
      "metadata": {
        "colab": {
          "base_uri": "https://localhost:8080/"
        },
        "id": "38MI3b3WXsZj",
        "outputId": "c1a50e64-fc4f-4e9e-cab3-b39bfa2000a8"
      },
      "source": [
        "df0 = df_train[df_train.label==0]\n",
        "df0.label.value_counts()"
      ],
      "execution_count": 11,
      "outputs": [
        {
          "output_type": "execute_result",
          "data": {
            "text/plain": [
              "0    1087\n",
              "Name: label, dtype: int64"
            ]
          },
          "metadata": {
            "tags": []
          },
          "execution_count": 11
        }
      ]
    },
    {
      "cell_type": "code",
      "metadata": {
        "colab": {
          "base_uri": "https://localhost:8080/"
        },
        "id": "9tisXBNbYlr7",
        "outputId": "15dc192d-6e9b-4e28-f034-4491bfad36b2"
      },
      "source": [
        "df2 = df_train[df_train.label==2]\n",
        "df2.label.value_counts()"
      ],
      "execution_count": 12,
      "outputs": [
        {
          "output_type": "execute_result",
          "data": {
            "text/plain": [
              "2    2386\n",
              "Name: label, dtype: int64"
            ]
          },
          "metadata": {
            "tags": []
          },
          "execution_count": 12
        }
      ]
    },
    {
      "cell_type": "code",
      "metadata": {
        "colab": {
          "base_uri": "https://localhost:8080/"
        },
        "id": "rXB5Igb7Ym9f",
        "outputId": "8fe2b8f5-50d4-450f-d230-b60d01494637"
      },
      "source": [
        "df3 = df_train[df_train.label==3]\n",
        "df3.label.value_counts()"
      ],
      "execution_count": 13,
      "outputs": [
        {
          "output_type": "execute_result",
          "data": {
            "text/plain": [
              "3    13158\n",
              "Name: label, dtype: int64"
            ]
          },
          "metadata": {
            "tags": []
          },
          "execution_count": 13
        }
      ]
    },
    {
      "cell_type": "code",
      "metadata": {
        "colab": {
          "base_uri": "https://localhost:8080/"
        },
        "id": "j9jU6SQOYoa1",
        "outputId": "e47eca88-d917-4bee-c102-3415ef3f05e0"
      },
      "source": [
        "df4 = df_train[df_train.label==4]\n",
        "df4.label.value_counts()"
      ],
      "execution_count": 14,
      "outputs": [
        {
          "output_type": "execute_result",
          "data": {
            "text/plain": [
              "4    2577\n",
              "Name: label, dtype: int64"
            ]
          },
          "metadata": {
            "tags": []
          },
          "execution_count": 14
        }
      ]
    },
    {
      "cell_type": "code",
      "metadata": {
        "colab": {
          "base_uri": "https://localhost:8080/"
        },
        "id": "xd-W4z8jYpb4",
        "outputId": "3963cefa-7384-459a-8e4b-496629cecb38"
      },
      "source": [
        "len(pd.concat([df0, df1, df2, df3, df4])) == len(df_train)"
      ],
      "execution_count": 15,
      "outputs": [
        {
          "output_type": "execute_result",
          "data": {
            "text/plain": [
              "True"
            ]
          },
          "metadata": {
            "tags": []
          },
          "execution_count": 15
        }
      ]
    },
    {
      "cell_type": "code",
      "metadata": {
        "id": "8h95OcpTYuLG",
        "colab": {
          "base_uri": "https://localhost:8080/",
          "height": 204
        },
        "outputId": "e68d029c-de42-46e4-c3f6-015e25cde18a"
      },
      "source": [
        "df1.head()"
      ],
      "execution_count": 16,
      "outputs": [
        {
          "output_type": "execute_result",
          "data": {
            "text/html": [
              "<div>\n",
              "<style scoped>\n",
              "    .dataframe tbody tr th:only-of-type {\n",
              "        vertical-align: middle;\n",
              "    }\n",
              "\n",
              "    .dataframe tbody tr th {\n",
              "        vertical-align: top;\n",
              "    }\n",
              "\n",
              "    .dataframe thead th {\n",
              "        text-align: right;\n",
              "    }\n",
              "</style>\n",
              "<table border=\"1\" class=\"dataframe\">\n",
              "  <thead>\n",
              "    <tr style=\"text-align: right;\">\n",
              "      <th></th>\n",
              "      <th>image_id</th>\n",
              "      <th>label</th>\n",
              "    </tr>\n",
              "  </thead>\n",
              "  <tbody>\n",
              "    <tr>\n",
              "      <th>2</th>\n",
              "      <td>100042118.jpg</td>\n",
              "      <td>1</td>\n",
              "    </tr>\n",
              "    <tr>\n",
              "      <th>3</th>\n",
              "      <td>1000723321.jpg</td>\n",
              "      <td>1</td>\n",
              "    </tr>\n",
              "    <tr>\n",
              "      <th>12</th>\n",
              "      <td>1002088496.jpg</td>\n",
              "      <td>1</td>\n",
              "    </tr>\n",
              "    <tr>\n",
              "      <th>22</th>\n",
              "      <td>1004389140.jpg</td>\n",
              "      <td>1</td>\n",
              "    </tr>\n",
              "    <tr>\n",
              "      <th>41</th>\n",
              "      <td>1008142548.jpg</td>\n",
              "      <td>1</td>\n",
              "    </tr>\n",
              "  </tbody>\n",
              "</table>\n",
              "</div>"
            ],
            "text/plain": [
              "          image_id  label\n",
              "2    100042118.jpg      1\n",
              "3   1000723321.jpg      1\n",
              "12  1002088496.jpg      1\n",
              "22  1004389140.jpg      1\n",
              "41  1008142548.jpg      1"
            ]
          },
          "metadata": {
            "tags": []
          },
          "execution_count": 16
        }
      ]
    },
    {
      "cell_type": "code",
      "metadata": {
        "id": "o9-PrgbP0XNu"
      },
      "source": [
        "df0_shuffled = df0.sample(frac=1).reset_index(drop=True)\n",
        "df1_shuffled = df1.sample(frac=1).reset_index(drop=True)\n",
        "df2_shuffled = df2.sample(frac=1).reset_index(drop=True)\n",
        "df3_shuffled = df3.sample(frac=1).reset_index(drop=True)\n",
        "df4_shuffled = df4.sample(frac=1).reset_index(drop=True)"
      ],
      "execution_count": 19,
      "outputs": []
    },
    {
      "cell_type": "code",
      "metadata": {
        "id": "tr-Bja8dUpeu"
      },
      "source": [
        "#train, val\n",
        "train_dir = os.path.join(data_dir, 'train')\n",
        "val_dir = os.path.join(data_dir, 'validation')\n",
        "os.makedirs(train_dir, exist_ok=True)\n",
        "os.makedirs(val_dir, exist_ok=True)"
      ],
      "execution_count": 8,
      "outputs": []
    },
    {
      "cell_type": "code",
      "metadata": {
        "id": "9usk3zSo0zaq"
      },
      "source": [
        "cnt = 0\n",
        "for image_file in df0_shuffled.image_id.to_list():\n",
        "  image_path = os.path.join(image_dir, image_file)\n",
        "  if cnt <= 0.8*len(df0_shuffled.image_id.to_list()):\n",
        "    cpath = train_dir\n",
        "  else:\n",
        "    cpath = val_dir\n",
        "  shutil.copy(image_path, cpath)\n",
        "  cnt += 1"
      ],
      "execution_count": 29,
      "outputs": []
    },
    {
      "cell_type": "code",
      "metadata": {
        "colab": {
          "base_uri": "https://localhost:8080/"
        },
        "id": "G0ixfPGQ-mRr",
        "outputId": "2f4fbaa5-59f8-42fa-beed-724d826245bf"
      },
      "source": [
        "df_shuffled_list = [df1_shuffled, df2_shuffled, df3_shuffled, df4_shuffled]\n",
        "for l in df_shuffled_list:\n",
        "  cnt = 0\n",
        "  print(l, \" start!\")\n",
        "  for image_file in l.image_id.to_list():\n",
        "    image_path = os.path.join(image_dir, image_file)\n",
        "    if cnt <= 0.8*len(l.image_id.to_list()):\n",
        "      cpath = train_dir\n",
        "    else:\n",
        "      cpath = val_dir\n",
        "    shutil.copy(image_path, cpath)\n",
        "    cnt += 1\n",
        "    if cnt%100 == 0:\n",
        "      print(cnt, 'complete.')"
      ],
      "execution_count": 33,
      "outputs": [
        {
          "output_type": "stream",
          "text": [
            "            image_id  label\n",
            "0     3507114461.jpg      1\n",
            "1     1909629301.jpg      1\n",
            "2       76610968.jpg      1\n",
            "3     4254996610.jpg      1\n",
            "4     3770952591.jpg      1\n",
            "...              ...    ...\n",
            "2184  1875533805.jpg      1\n",
            "2185  2425193162.jpg      1\n",
            "2186  2995113861.jpg      1\n",
            "2187   379373523.jpg      1\n",
            "2188  2182500020.jpg      1\n",
            "\n",
            "[2189 rows x 2 columns]  start!\n",
            "100 complete.\n",
            "200 complete.\n",
            "300 complete.\n",
            "400 complete.\n",
            "500 complete.\n",
            "600 complete.\n",
            "700 complete.\n",
            "800 complete.\n",
            "900 complete.\n",
            "1000 complete.\n",
            "1100 complete.\n",
            "1200 complete.\n",
            "1300 complete.\n",
            "1400 complete.\n",
            "1500 complete.\n",
            "1600 complete.\n",
            "1700 complete.\n",
            "1800 complete.\n",
            "1900 complete.\n",
            "2000 complete.\n",
            "2100 complete.\n",
            "            image_id  label\n",
            "0     3826775864.jpg      2\n",
            "1     1393783706.jpg      2\n",
            "2      766908244.jpg      2\n",
            "3     1792425947.jpg      2\n",
            "4     3743464955.jpg      2\n",
            "...              ...    ...\n",
            "2381  4079242692.jpg      2\n",
            "2382  2753152635.jpg      2\n",
            "2383  1608857677.jpg      2\n",
            "2384  2694534101.jpg      2\n",
            "2385    22116035.jpg      2\n",
            "\n",
            "[2386 rows x 2 columns]  start!\n",
            "100 complete.\n",
            "200 complete.\n",
            "300 complete.\n",
            "400 complete.\n",
            "500 complete.\n",
            "600 complete.\n",
            "700 complete.\n",
            "800 complete.\n",
            "900 complete.\n",
            "1000 complete.\n",
            "1100 complete.\n",
            "1200 complete.\n",
            "1300 complete.\n",
            "1400 complete.\n",
            "1500 complete.\n",
            "1600 complete.\n",
            "1700 complete.\n",
            "1800 complete.\n",
            "1900 complete.\n",
            "2000 complete.\n",
            "2100 complete.\n",
            "2200 complete.\n",
            "2300 complete.\n",
            "             image_id  label\n",
            "0      2577042809.jpg      3\n",
            "1      2216672463.jpg      3\n",
            "2      3467700084.jpg      3\n",
            "3       852377476.jpg      3\n",
            "4      1843297041.jpg      3\n",
            "...               ...    ...\n",
            "13153  3024619952.jpg      3\n",
            "13154   261130695.jpg      3\n",
            "13155  2466680233.jpg      3\n",
            "13156  3564216441.jpg      3\n",
            "13157  1007700625.jpg      3\n",
            "\n",
            "[13158 rows x 2 columns]  start!\n",
            "100 complete.\n",
            "200 complete.\n",
            "300 complete.\n",
            "400 complete.\n",
            "500 complete.\n",
            "600 complete.\n",
            "700 complete.\n",
            "800 complete.\n",
            "900 complete.\n",
            "1000 complete.\n",
            "1100 complete.\n",
            "1200 complete.\n",
            "1300 complete.\n",
            "1400 complete.\n",
            "1500 complete.\n",
            "1600 complete.\n",
            "1700 complete.\n",
            "1800 complete.\n",
            "1900 complete.\n",
            "2000 complete.\n",
            "2100 complete.\n",
            "2200 complete.\n",
            "2300 complete.\n",
            "2400 complete.\n",
            "2500 complete.\n",
            "2600 complete.\n",
            "2700 complete.\n",
            "2800 complete.\n",
            "2900 complete.\n",
            "3000 complete.\n",
            "3100 complete.\n",
            "3200 complete.\n",
            "3300 complete.\n",
            "3400 complete.\n",
            "3500 complete.\n",
            "3600 complete.\n",
            "3700 complete.\n",
            "3800 complete.\n",
            "3900 complete.\n",
            "4000 complete.\n",
            "4100 complete.\n",
            "4200 complete.\n",
            "4300 complete.\n",
            "4400 complete.\n",
            "4500 complete.\n",
            "4600 complete.\n",
            "4700 complete.\n",
            "4800 complete.\n",
            "4900 complete.\n",
            "5000 complete.\n",
            "5100 complete.\n",
            "5200 complete.\n",
            "5300 complete.\n",
            "5400 complete.\n",
            "5500 complete.\n",
            "5600 complete.\n",
            "5700 complete.\n",
            "5800 complete.\n",
            "5900 complete.\n",
            "6000 complete.\n",
            "6100 complete.\n",
            "6200 complete.\n",
            "6300 complete.\n",
            "6400 complete.\n",
            "6500 complete.\n",
            "6600 complete.\n",
            "6700 complete.\n",
            "6800 complete.\n",
            "6900 complete.\n",
            "7000 complete.\n",
            "7100 complete.\n",
            "7200 complete.\n",
            "7300 complete.\n",
            "7400 complete.\n",
            "7500 complete.\n",
            "7600 complete.\n",
            "7700 complete.\n",
            "7800 complete.\n",
            "7900 complete.\n",
            "8000 complete.\n",
            "8100 complete.\n",
            "8200 complete.\n",
            "8300 complete.\n",
            "8400 complete.\n",
            "8500 complete.\n",
            "8600 complete.\n",
            "8700 complete.\n",
            "8800 complete.\n",
            "8900 complete.\n",
            "9000 complete.\n",
            "9100 complete.\n",
            "9200 complete.\n",
            "9300 complete.\n",
            "9400 complete.\n",
            "9500 complete.\n",
            "9600 complete.\n",
            "9700 complete.\n",
            "9800 complete.\n",
            "9900 complete.\n",
            "10000 complete.\n",
            "10100 complete.\n",
            "10200 complete.\n",
            "10300 complete.\n",
            "10400 complete.\n",
            "10500 complete.\n",
            "10600 complete.\n",
            "10700 complete.\n",
            "10800 complete.\n",
            "10900 complete.\n",
            "11000 complete.\n",
            "11100 complete.\n",
            "11200 complete.\n",
            "11300 complete.\n",
            "11400 complete.\n",
            "11500 complete.\n",
            "11600 complete.\n",
            "11700 complete.\n",
            "11800 complete.\n",
            "11900 complete.\n",
            "12000 complete.\n",
            "12100 complete.\n",
            "12200 complete.\n",
            "12300 complete.\n",
            "12400 complete.\n",
            "12500 complete.\n",
            "12600 complete.\n",
            "12700 complete.\n",
            "12800 complete.\n",
            "12900 complete.\n",
            "13000 complete.\n",
            "13100 complete.\n",
            "            image_id  label\n",
            "0     3479006083.jpg      4\n",
            "1     1426179564.jpg      4\n",
            "2     3183287090.jpg      4\n",
            "3     2105592782.jpg      4\n",
            "4      354756762.jpg      4\n",
            "...              ...    ...\n",
            "2572  2308541209.jpg      4\n",
            "2573  4040452479.jpg      4\n",
            "2574  1887611865.jpg      4\n",
            "2575  2237980387.jpg      4\n",
            "2576  2191624068.jpg      4\n",
            "\n",
            "[2577 rows x 2 columns]  start!\n",
            "100 complete.\n",
            "200 complete.\n",
            "300 complete.\n",
            "400 complete.\n",
            "500 complete.\n",
            "600 complete.\n",
            "700 complete.\n",
            "800 complete.\n",
            "900 complete.\n",
            "1000 complete.\n",
            "1100 complete.\n",
            "1200 complete.\n",
            "1300 complete.\n",
            "1400 complete.\n",
            "1500 complete.\n",
            "1600 complete.\n",
            "1700 complete.\n",
            "1800 complete.\n",
            "1900 complete.\n",
            "2000 complete.\n",
            "2100 complete.\n",
            "2200 complete.\n",
            "2300 complete.\n",
            "2400 complete.\n",
            "2500 complete.\n"
          ],
          "name": "stdout"
        }
      ]
    },
    {
      "cell_type": "code",
      "metadata": {
        "colab": {
          "base_uri": "https://localhost:8080/"
        },
        "id": "cR1YCj7P1H1j",
        "outputId": "bc2e5b09-045f-4200-f828-6718c47aa5ac"
      },
      "source": [
        "train_images = os.listdir(train_dir)\n",
        "val_images = os.listdir(val_dir)\n",
        "\n",
        "print(len(train_images), len(val_images))"
      ],
      "execution_count": 34,
      "outputs": [
        {
          "output_type": "stream",
          "text": [
            "17120 4277\n"
          ],
          "name": "stdout"
        }
      ]
    },
    {
      "cell_type": "code",
      "metadata": {
        "id": "njxVE2S_-iQ3"
      },
      "source": [
        ""
      ],
      "execution_count": null,
      "outputs": []
    },
    {
      "cell_type": "code",
      "metadata": {
        "id": "I4nrjX5-pokg"
      },
      "source": [
        ""
      ],
      "execution_count": null,
      "outputs": []
    }
  ]
}