{
  "nbformat": 4,
  "nbformat_minor": 0,
  "metadata": {
    "colab": {
      "name": "Cassava_v2.ipynb",
      "provenance": [],
      "machine_shape": "hm",
      "mount_file_id": "1SiYOr15DxCGL0cmQSAj8VAkbtRiVW4I4",
      "authorship_tag": "ABX9TyObJZmAhJ3JAFAOTXJHHcs7",
      "include_colab_link": true
    },
    "kernelspec": {
      "name": "python3",
      "display_name": "Python 3"
    },
    "language_info": {
      "name": "python"
    },
    "accelerator": "GPU"
  },
  "cells": [
    {
      "cell_type": "markdown",
      "metadata": {
        "id": "view-in-github",
        "colab_type": "text"
      },
      "source": [
        "<a href=\"https://colab.research.google.com/github/johanjun/kaggle_cassava_leaf/blob/main/Cassava_v2.ipynb\" target=\"_parent\"><img src=\"https://colab.research.google.com/assets/colab-badge.svg\" alt=\"Open In Colab\"/></a>"
      ]
    },
    {
      "cell_type": "markdown",
      "metadata": {
        "id": "HRxYlgGDSGnI"
      },
      "source": [
        "# Library import"
      ]
    },
    {
      "cell_type": "code",
      "metadata": {
        "id": "aXK_dz5HRF57"
      },
      "source": [
        "## library import\n",
        "import tensorflow as tf\n",
        "from tensorflow import keras\n",
        "import numpy as np\n",
        "import pandas as pd\n",
        "import os\n",
        "import re\n",
        "from PIL import Image\n",
        "import shutil\n",
        "from sklearn.model_selection import train_test_split\n",
        "import random\n",
        "import matplotlib.pyplot as plt\n",
        "from matplotlib.patches import Rectangle\n",
        "import xml.etree.ElementTree as et\n",
        "import json\n",
        "import pprint"
      ],
      "execution_count": 1,
      "outputs": []
    },
    {
      "cell_type": "markdown",
      "metadata": {
        "id": "1pT-_xO4SJgX"
      },
      "source": [
        "# Data load"
      ]
    },
    {
      "cell_type": "code",
      "metadata": {
        "colab": {
          "base_uri": "https://localhost:8080/"
        },
        "id": "a4B3vli_Ryob",
        "outputId": "ef5afbe6-9cd5-407d-de48-c3ca7ea9fc2e"
      },
      "source": [
        "%cd /content/drive/MyDrive/Cassava_Leaf"
      ],
      "execution_count": 2,
      "outputs": [
        {
          "output_type": "stream",
          "text": [
            "/content/drive/MyDrive/Cassava_Leaf\n"
          ],
          "name": "stdout"
        }
      ]
    },
    {
      "cell_type": "code",
      "metadata": {
        "colab": {
          "base_uri": "https://localhost:8080/",
          "height": 35
        },
        "id": "AuSFdXGyRunR",
        "outputId": "0bb2ef7d-39f0-4bff-894f-d71e9f9b4c8c"
      },
      "source": [
        "os.getcwd()"
      ],
      "execution_count": 3,
      "outputs": [
        {
          "output_type": "execute_result",
          "data": {
            "application/vnd.google.colaboratory.intrinsic+json": {
              "type": "string"
            },
            "text/plain": [
              "'/content/drive/MyDrive/Cassava_Leaf'"
            ]
          },
          "metadata": {
            "tags": []
          },
          "execution_count": 3
        }
      ]
    },
    {
      "cell_type": "code",
      "metadata": {
        "id": "pUMkXj5FRLIq"
      },
      "source": [
        "## directory 설정\n",
        "cur_dir = os.getcwd()\n",
        "data_dir = os.path.join(cur_dir, 'data')\n",
        "image_dir = os.path.join(data_dir, 'train_images')"
      ],
      "execution_count": 4,
      "outputs": []
    },
    {
      "cell_type": "code",
      "metadata": {
        "colab": {
          "base_uri": "https://localhost:8080/"
        },
        "id": "G8uHg8B8SBYO",
        "outputId": "e06dd73a-dc92-4f59-bfa7-14da48020139"
      },
      "source": [
        "## image file 수 확인\n",
        "image_files = [fname for fname in os.listdir(image_dir) if os.path.splitext(fname)[-1] == '.jpg'] #확장자 분리\n",
        "print(len(image_files))"
      ],
      "execution_count": null,
      "outputs": [
        {
          "output_type": "stream",
          "text": [
            "21397\n"
          ],
          "name": "stdout"
        }
      ]
    },
    {
      "cell_type": "code",
      "metadata": {
        "colab": {
          "base_uri": "https://localhost:8080/"
        },
        "id": "bnJRPpvhU-li",
        "outputId": "b3bc31dc-f12d-4155-97f0-20fc64222266"
      },
      "source": [
        "image_files[:10]"
      ],
      "execution_count": null,
      "outputs": [
        {
          "output_type": "execute_result",
          "data": {
            "text/plain": [
              "['787914923.jpg',\n",
              " '822641071.jpg',\n",
              " '810351903.jpg',\n",
              " '813744167.jpg',\n",
              " '821592762.jpg',\n",
              " '803715275.jpg',\n",
              " '816689138.jpg',\n",
              " '787415998.jpg',\n",
              " '813217011.jpg',\n",
              " '793206643.jpg']"
            ]
          },
          "metadata": {
            "tags": []
          },
          "execution_count": 6
        }
      ]
    },
    {
      "cell_type": "code",
      "metadata": {
        "colab": {
          "base_uri": "https://localhost:8080/"
        },
        "id": "0fROQko2SDoX",
        "outputId": "c2c4043f-5b9d-49bb-ab9a-1475e844a0f9"
      },
      "source": [
        "with open(os.path.join(data_dir, 'label_num_to_disease_map.json')) as f:\n",
        "    mapping = json.loads(f.read())\n",
        "    pprint.pprint(mapping)"
      ],
      "execution_count": 18,
      "outputs": [
        {
          "output_type": "stream",
          "text": [
            "{'0': 'Cassava Bacterial Blight (CBB)',\n",
            " '1': 'Cassava Brown Streak Disease (CBSD)',\n",
            " '2': 'Cassava Green Mottle (CGM)',\n",
            " '3': 'Cassava Mosaic Disease (CMD)',\n",
            " '4': 'Healthy'}\n"
          ],
          "name": "stdout"
        }
      ]
    },
    {
      "cell_type": "markdown",
      "metadata": {
        "id": "8T64nG8nY0aI"
      },
      "source": [
        "## data split by label"
      ]
    },
    {
      "cell_type": "code",
      "metadata": {
        "colab": {
          "base_uri": "https://localhost:8080/",
          "height": 204
        },
        "id": "WIfC-G48VeN2",
        "outputId": "e479b1dd-786f-4e1b-ab75-6c365cb0f96b"
      },
      "source": [
        "with open(os.path.join(data_dir, 'train.csv')) as f:\n",
        "    df_train = pd.read_csv(f)\n",
        "\n",
        "df_train.head()"
      ],
      "execution_count": 14,
      "outputs": [
        {
          "output_type": "execute_result",
          "data": {
            "text/html": [
              "<div>\n",
              "<style scoped>\n",
              "    .dataframe tbody tr th:only-of-type {\n",
              "        vertical-align: middle;\n",
              "    }\n",
              "\n",
              "    .dataframe tbody tr th {\n",
              "        vertical-align: top;\n",
              "    }\n",
              "\n",
              "    .dataframe thead th {\n",
              "        text-align: right;\n",
              "    }\n",
              "</style>\n",
              "<table border=\"1\" class=\"dataframe\">\n",
              "  <thead>\n",
              "    <tr style=\"text-align: right;\">\n",
              "      <th></th>\n",
              "      <th>image_id</th>\n",
              "      <th>label</th>\n",
              "    </tr>\n",
              "  </thead>\n",
              "  <tbody>\n",
              "    <tr>\n",
              "      <th>0</th>\n",
              "      <td>1000015157.jpg</td>\n",
              "      <td>0</td>\n",
              "    </tr>\n",
              "    <tr>\n",
              "      <th>1</th>\n",
              "      <td>1000201771.jpg</td>\n",
              "      <td>3</td>\n",
              "    </tr>\n",
              "    <tr>\n",
              "      <th>2</th>\n",
              "      <td>100042118.jpg</td>\n",
              "      <td>1</td>\n",
              "    </tr>\n",
              "    <tr>\n",
              "      <th>3</th>\n",
              "      <td>1000723321.jpg</td>\n",
              "      <td>1</td>\n",
              "    </tr>\n",
              "    <tr>\n",
              "      <th>4</th>\n",
              "      <td>1000812911.jpg</td>\n",
              "      <td>3</td>\n",
              "    </tr>\n",
              "  </tbody>\n",
              "</table>\n",
              "</div>"
            ],
            "text/plain": [
              "         image_id  label\n",
              "0  1000015157.jpg      0\n",
              "1  1000201771.jpg      3\n",
              "2   100042118.jpg      1\n",
              "3  1000723321.jpg      1\n",
              "4  1000812911.jpg      3"
            ]
          },
          "metadata": {
            "tags": []
          },
          "execution_count": 14
        }
      ]
    },
    {
      "cell_type": "code",
      "metadata": {
        "colab": {
          "base_uri": "https://localhost:8080/"
        },
        "id": "Utdt20iTYge0",
        "outputId": "90dd1b36-d827-4451-9956-8403d9dc438d"
      },
      "source": [
        "df1 = df_train[df_train.label==1]\n",
        "df1.label.value_counts()"
      ],
      "execution_count": null,
      "outputs": [
        {
          "output_type": "execute_result",
          "data": {
            "text/plain": [
              "1    2189\n",
              "Name: label, dtype: int64"
            ]
          },
          "metadata": {
            "tags": []
          },
          "execution_count": 10
        }
      ]
    },
    {
      "cell_type": "code",
      "metadata": {
        "colab": {
          "base_uri": "https://localhost:8080/"
        },
        "id": "38MI3b3WXsZj",
        "outputId": "c1a50e64-fc4f-4e9e-cab3-b39bfa2000a8"
      },
      "source": [
        "df0 = df_train[df_train.label==0]\n",
        "df0.label.value_counts()"
      ],
      "execution_count": null,
      "outputs": [
        {
          "output_type": "execute_result",
          "data": {
            "text/plain": [
              "0    1087\n",
              "Name: label, dtype: int64"
            ]
          },
          "metadata": {
            "tags": []
          },
          "execution_count": 11
        }
      ]
    },
    {
      "cell_type": "code",
      "metadata": {
        "colab": {
          "base_uri": "https://localhost:8080/"
        },
        "id": "9tisXBNbYlr7",
        "outputId": "15dc192d-6e9b-4e28-f034-4491bfad36b2"
      },
      "source": [
        "df2 = df_train[df_train.label==2]\n",
        "df2.label.value_counts()"
      ],
      "execution_count": null,
      "outputs": [
        {
          "output_type": "execute_result",
          "data": {
            "text/plain": [
              "2    2386\n",
              "Name: label, dtype: int64"
            ]
          },
          "metadata": {
            "tags": []
          },
          "execution_count": 12
        }
      ]
    },
    {
      "cell_type": "code",
      "metadata": {
        "colab": {
          "base_uri": "https://localhost:8080/"
        },
        "id": "rXB5Igb7Ym9f",
        "outputId": "8fe2b8f5-50d4-450f-d230-b60d01494637"
      },
      "source": [
        "df3 = df_train[df_train.label==3]\n",
        "df3.label.value_counts()"
      ],
      "execution_count": null,
      "outputs": [
        {
          "output_type": "execute_result",
          "data": {
            "text/plain": [
              "3    13158\n",
              "Name: label, dtype: int64"
            ]
          },
          "metadata": {
            "tags": []
          },
          "execution_count": 13
        }
      ]
    },
    {
      "cell_type": "code",
      "metadata": {
        "colab": {
          "base_uri": "https://localhost:8080/"
        },
        "id": "j9jU6SQOYoa1",
        "outputId": "e47eca88-d917-4bee-c102-3415ef3f05e0"
      },
      "source": [
        "df4 = df_train[df_train.label==4]\n",
        "df4.label.value_counts()"
      ],
      "execution_count": null,
      "outputs": [
        {
          "output_type": "execute_result",
          "data": {
            "text/plain": [
              "4    2577\n",
              "Name: label, dtype: int64"
            ]
          },
          "metadata": {
            "tags": []
          },
          "execution_count": 14
        }
      ]
    },
    {
      "cell_type": "code",
      "metadata": {
        "colab": {
          "base_uri": "https://localhost:8080/"
        },
        "id": "xd-W4z8jYpb4",
        "outputId": "3963cefa-7384-459a-8e4b-496629cecb38"
      },
      "source": [
        "len(pd.concat([df0, df1, df2, df3, df4])) == len(df_train)"
      ],
      "execution_count": null,
      "outputs": [
        {
          "output_type": "execute_result",
          "data": {
            "text/plain": [
              "True"
            ]
          },
          "metadata": {
            "tags": []
          },
          "execution_count": 15
        }
      ]
    },
    {
      "cell_type": "code",
      "metadata": {
        "id": "8h95OcpTYuLG",
        "colab": {
          "base_uri": "https://localhost:8080/",
          "height": 204
        },
        "outputId": "e68d029c-de42-46e4-c3f6-015e25cde18a"
      },
      "source": [
        "df1.head()"
      ],
      "execution_count": null,
      "outputs": [
        {
          "output_type": "execute_result",
          "data": {
            "text/html": [
              "<div>\n",
              "<style scoped>\n",
              "    .dataframe tbody tr th:only-of-type {\n",
              "        vertical-align: middle;\n",
              "    }\n",
              "\n",
              "    .dataframe tbody tr th {\n",
              "        vertical-align: top;\n",
              "    }\n",
              "\n",
              "    .dataframe thead th {\n",
              "        text-align: right;\n",
              "    }\n",
              "</style>\n",
              "<table border=\"1\" class=\"dataframe\">\n",
              "  <thead>\n",
              "    <tr style=\"text-align: right;\">\n",
              "      <th></th>\n",
              "      <th>image_id</th>\n",
              "      <th>label</th>\n",
              "    </tr>\n",
              "  </thead>\n",
              "  <tbody>\n",
              "    <tr>\n",
              "      <th>2</th>\n",
              "      <td>100042118.jpg</td>\n",
              "      <td>1</td>\n",
              "    </tr>\n",
              "    <tr>\n",
              "      <th>3</th>\n",
              "      <td>1000723321.jpg</td>\n",
              "      <td>1</td>\n",
              "    </tr>\n",
              "    <tr>\n",
              "      <th>12</th>\n",
              "      <td>1002088496.jpg</td>\n",
              "      <td>1</td>\n",
              "    </tr>\n",
              "    <tr>\n",
              "      <th>22</th>\n",
              "      <td>1004389140.jpg</td>\n",
              "      <td>1</td>\n",
              "    </tr>\n",
              "    <tr>\n",
              "      <th>41</th>\n",
              "      <td>1008142548.jpg</td>\n",
              "      <td>1</td>\n",
              "    </tr>\n",
              "  </tbody>\n",
              "</table>\n",
              "</div>"
            ],
            "text/plain": [
              "          image_id  label\n",
              "2    100042118.jpg      1\n",
              "3   1000723321.jpg      1\n",
              "12  1002088496.jpg      1\n",
              "22  1004389140.jpg      1\n",
              "41  1008142548.jpg      1"
            ]
          },
          "metadata": {
            "tags": []
          },
          "execution_count": 16
        }
      ]
    },
    {
      "cell_type": "code",
      "metadata": {
        "id": "o9-PrgbP0XNu"
      },
      "source": [
        "df0_shuffled = df0.sample(frac=1).reset_index(drop=True)\n",
        "df1_shuffled = df1.sample(frac=1).reset_index(drop=True)\n",
        "df2_shuffled = df2.sample(frac=1).reset_index(drop=True)\n",
        "df3_shuffled = df3.sample(frac=1).reset_index(drop=True)\n",
        "df4_shuffled = df4.sample(frac=1).reset_index(drop=True)"
      ],
      "execution_count": null,
      "outputs": []
    },
    {
      "cell_type": "code",
      "metadata": {
        "id": "tr-Bja8dUpeu"
      },
      "source": [
        "#train, val\n",
        "train_dir = os.path.join(data_dir, 'train')\n",
        "val_dir = os.path.join(data_dir, 'validation')\n",
        "os.makedirs(train_dir, exist_ok=True)\n",
        "os.makedirs(val_dir, exist_ok=True)"
      ],
      "execution_count": 5,
      "outputs": []
    },
    {
      "cell_type": "code",
      "metadata": {
        "id": "9usk3zSo0zaq"
      },
      "source": [
        "cnt = 0\n",
        "for image_file in df0_shuffled.image_id.to_list():\n",
        "  image_path = os.path.join(image_dir, image_file)\n",
        "  if cnt <= 0.8*len(df0_shuffled.image_id.to_list()):\n",
        "    cpath = train_dir\n",
        "  else:\n",
        "    cpath = val_dir\n",
        "  shutil.copy(image_path, cpath)\n",
        "  cnt += 1"
      ],
      "execution_count": null,
      "outputs": []
    },
    {
      "cell_type": "code",
      "metadata": {
        "colab": {
          "base_uri": "https://localhost:8080/"
        },
        "id": "G0ixfPGQ-mRr",
        "outputId": "2f4fbaa5-59f8-42fa-beed-724d826245bf"
      },
      "source": [
        "df_shuffled_list = [df1_shuffled, df2_shuffled, df3_shuffled, df4_shuffled]\n",
        "for l in df_shuffled_list:\n",
        "  cnt = 0\n",
        "  print(l, \" start!\")\n",
        "  for image_file in l.image_id.to_list():\n",
        "    image_path = os.path.join(image_dir, image_file)\n",
        "    if cnt <= 0.8*len(l.image_id.to_list()):\n",
        "      cpath = train_dir\n",
        "    else:\n",
        "      cpath = val_dir\n",
        "    shutil.copy(image_path, cpath)\n",
        "    cnt += 1\n",
        "    if cnt%100 == 0:\n",
        "      print(cnt, 'complete.')"
      ],
      "execution_count": null,
      "outputs": [
        {
          "output_type": "stream",
          "text": [
            "            image_id  label\n",
            "0     3507114461.jpg      1\n",
            "1     1909629301.jpg      1\n",
            "2       76610968.jpg      1\n",
            "3     4254996610.jpg      1\n",
            "4     3770952591.jpg      1\n",
            "...              ...    ...\n",
            "2184  1875533805.jpg      1\n",
            "2185  2425193162.jpg      1\n",
            "2186  2995113861.jpg      1\n",
            "2187   379373523.jpg      1\n",
            "2188  2182500020.jpg      1\n",
            "\n",
            "[2189 rows x 2 columns]  start!\n",
            "100 complete.\n",
            "200 complete.\n",
            "300 complete.\n",
            "400 complete.\n",
            "500 complete.\n",
            "600 complete.\n",
            "700 complete.\n",
            "800 complete.\n",
            "900 complete.\n",
            "1000 complete.\n",
            "1100 complete.\n",
            "1200 complete.\n",
            "1300 complete.\n",
            "1400 complete.\n",
            "1500 complete.\n",
            "1600 complete.\n",
            "1700 complete.\n",
            "1800 complete.\n",
            "1900 complete.\n",
            "2000 complete.\n",
            "2100 complete.\n",
            "            image_id  label\n",
            "0     3826775864.jpg      2\n",
            "1     1393783706.jpg      2\n",
            "2      766908244.jpg      2\n",
            "3     1792425947.jpg      2\n",
            "4     3743464955.jpg      2\n",
            "...              ...    ...\n",
            "2381  4079242692.jpg      2\n",
            "2382  2753152635.jpg      2\n",
            "2383  1608857677.jpg      2\n",
            "2384  2694534101.jpg      2\n",
            "2385    22116035.jpg      2\n",
            "\n",
            "[2386 rows x 2 columns]  start!\n",
            "100 complete.\n",
            "200 complete.\n",
            "300 complete.\n",
            "400 complete.\n",
            "500 complete.\n",
            "600 complete.\n",
            "700 complete.\n",
            "800 complete.\n",
            "900 complete.\n",
            "1000 complete.\n",
            "1100 complete.\n",
            "1200 complete.\n",
            "1300 complete.\n",
            "1400 complete.\n",
            "1500 complete.\n",
            "1600 complete.\n",
            "1700 complete.\n",
            "1800 complete.\n",
            "1900 complete.\n",
            "2000 complete.\n",
            "2100 complete.\n",
            "2200 complete.\n",
            "2300 complete.\n",
            "             image_id  label\n",
            "0      2577042809.jpg      3\n",
            "1      2216672463.jpg      3\n",
            "2      3467700084.jpg      3\n",
            "3       852377476.jpg      3\n",
            "4      1843297041.jpg      3\n",
            "...               ...    ...\n",
            "13153  3024619952.jpg      3\n",
            "13154   261130695.jpg      3\n",
            "13155  2466680233.jpg      3\n",
            "13156  3564216441.jpg      3\n",
            "13157  1007700625.jpg      3\n",
            "\n",
            "[13158 rows x 2 columns]  start!\n",
            "100 complete.\n",
            "200 complete.\n",
            "300 complete.\n",
            "400 complete.\n",
            "500 complete.\n",
            "600 complete.\n",
            "700 complete.\n",
            "800 complete.\n",
            "900 complete.\n",
            "1000 complete.\n",
            "1100 complete.\n",
            "1200 complete.\n",
            "1300 complete.\n",
            "1400 complete.\n",
            "1500 complete.\n",
            "1600 complete.\n",
            "1700 complete.\n",
            "1800 complete.\n",
            "1900 complete.\n",
            "2000 complete.\n",
            "2100 complete.\n",
            "2200 complete.\n",
            "2300 complete.\n",
            "2400 complete.\n",
            "2500 complete.\n",
            "2600 complete.\n",
            "2700 complete.\n",
            "2800 complete.\n",
            "2900 complete.\n",
            "3000 complete.\n",
            "3100 complete.\n",
            "3200 complete.\n",
            "3300 complete.\n",
            "3400 complete.\n",
            "3500 complete.\n",
            "3600 complete.\n",
            "3700 complete.\n",
            "3800 complete.\n",
            "3900 complete.\n",
            "4000 complete.\n",
            "4100 complete.\n",
            "4200 complete.\n",
            "4300 complete.\n",
            "4400 complete.\n",
            "4500 complete.\n",
            "4600 complete.\n",
            "4700 complete.\n",
            "4800 complete.\n",
            "4900 complete.\n",
            "5000 complete.\n",
            "5100 complete.\n",
            "5200 complete.\n",
            "5300 complete.\n",
            "5400 complete.\n",
            "5500 complete.\n",
            "5600 complete.\n",
            "5700 complete.\n",
            "5800 complete.\n",
            "5900 complete.\n",
            "6000 complete.\n",
            "6100 complete.\n",
            "6200 complete.\n",
            "6300 complete.\n",
            "6400 complete.\n",
            "6500 complete.\n",
            "6600 complete.\n",
            "6700 complete.\n",
            "6800 complete.\n",
            "6900 complete.\n",
            "7000 complete.\n",
            "7100 complete.\n",
            "7200 complete.\n",
            "7300 complete.\n",
            "7400 complete.\n",
            "7500 complete.\n",
            "7600 complete.\n",
            "7700 complete.\n",
            "7800 complete.\n",
            "7900 complete.\n",
            "8000 complete.\n",
            "8100 complete.\n",
            "8200 complete.\n",
            "8300 complete.\n",
            "8400 complete.\n",
            "8500 complete.\n",
            "8600 complete.\n",
            "8700 complete.\n",
            "8800 complete.\n",
            "8900 complete.\n",
            "9000 complete.\n",
            "9100 complete.\n",
            "9200 complete.\n",
            "9300 complete.\n",
            "9400 complete.\n",
            "9500 complete.\n",
            "9600 complete.\n",
            "9700 complete.\n",
            "9800 complete.\n",
            "9900 complete.\n",
            "10000 complete.\n",
            "10100 complete.\n",
            "10200 complete.\n",
            "10300 complete.\n",
            "10400 complete.\n",
            "10500 complete.\n",
            "10600 complete.\n",
            "10700 complete.\n",
            "10800 complete.\n",
            "10900 complete.\n",
            "11000 complete.\n",
            "11100 complete.\n",
            "11200 complete.\n",
            "11300 complete.\n",
            "11400 complete.\n",
            "11500 complete.\n",
            "11600 complete.\n",
            "11700 complete.\n",
            "11800 complete.\n",
            "11900 complete.\n",
            "12000 complete.\n",
            "12100 complete.\n",
            "12200 complete.\n",
            "12300 complete.\n",
            "12400 complete.\n",
            "12500 complete.\n",
            "12600 complete.\n",
            "12700 complete.\n",
            "12800 complete.\n",
            "12900 complete.\n",
            "13000 complete.\n",
            "13100 complete.\n",
            "            image_id  label\n",
            "0     3479006083.jpg      4\n",
            "1     1426179564.jpg      4\n",
            "2     3183287090.jpg      4\n",
            "3     2105592782.jpg      4\n",
            "4      354756762.jpg      4\n",
            "...              ...    ...\n",
            "2572  2308541209.jpg      4\n",
            "2573  4040452479.jpg      4\n",
            "2574  1887611865.jpg      4\n",
            "2575  2237980387.jpg      4\n",
            "2576  2191624068.jpg      4\n",
            "\n",
            "[2577 rows x 2 columns]  start!\n",
            "100 complete.\n",
            "200 complete.\n",
            "300 complete.\n",
            "400 complete.\n",
            "500 complete.\n",
            "600 complete.\n",
            "700 complete.\n",
            "800 complete.\n",
            "900 complete.\n",
            "1000 complete.\n",
            "1100 complete.\n",
            "1200 complete.\n",
            "1300 complete.\n",
            "1400 complete.\n",
            "1500 complete.\n",
            "1600 complete.\n",
            "1700 complete.\n",
            "1800 complete.\n",
            "1900 complete.\n",
            "2000 complete.\n",
            "2100 complete.\n",
            "2200 complete.\n",
            "2300 complete.\n",
            "2400 complete.\n",
            "2500 complete.\n"
          ],
          "name": "stdout"
        }
      ]
    },
    {
      "cell_type": "code",
      "metadata": {
        "colab": {
          "base_uri": "https://localhost:8080/"
        },
        "id": "cR1YCj7P1H1j",
        "outputId": "cc6d9c2e-8ee9-40e3-f6e6-59c20b854028"
      },
      "source": [
        "train_images = os.listdir(train_dir)\n",
        "val_images = os.listdir(val_dir)\n",
        "\n",
        "print(len(train_images), len(val_images))"
      ],
      "execution_count": 6,
      "outputs": [
        {
          "output_type": "stream",
          "text": [
            "17120 4277\n"
          ],
          "name": "stdout"
        }
      ]
    },
    {
      "cell_type": "markdown",
      "metadata": {
        "id": "njxVE2S_-iQ3"
      },
      "source": [
        "# TFRecord"
      ]
    },
    {
      "cell_type": "code",
      "metadata": {
        "id": "I4nrjX5-pokg"
      },
      "source": [
        "IMG_SIZE = 224"
      ],
      "execution_count": 7,
      "outputs": []
    },
    {
      "cell_type": "code",
      "metadata": {
        "id": "AAtjjY-KNaec"
      },
      "source": [
        "## TFRecord 저장할 directory와 file 경로 설정\n",
        "tfr_dir = os.path.join(data_dir, 'tfrecord')\n",
        "os.makedirs(tfr_dir, exist_ok=True)\n",
        "\n",
        "tfr_train_dir = os.path.join(tfr_dir, 'cls_train.tfr')\n",
        "tfr_val_dir = os.path.join(tfr_dir, 'cls_val.tfr')"
      ],
      "execution_count": 8,
      "outputs": []
    },
    {
      "cell_type": "code",
      "metadata": {
        "id": "_hjBntIRNdTB"
      },
      "source": [
        "## TFRecord writer 생성\n",
        "writer_train = tf.io.TFRecordWriter(tfr_train_dir)\n",
        "writer_val = tf.io.TFRecordWriter(tfr_val_dir)"
      ],
      "execution_count": 9,
      "outputs": []
    },
    {
      "cell_type": "code",
      "metadata": {
        "id": "VcfAnOzlNiU-"
      },
      "source": [
        "# The following functions can be used to convert a value to a type compatible\n",
        "# with tf.Example.\n",
        "\n",
        "def _bytes_feature(value):\n",
        "  \"\"\"Returns a bytes_list from a string / byte.\"\"\"\n",
        "  if isinstance(value, type(tf.constant(0))):\n",
        "    value = value.numpy() # BytesList won't unpack a string from an EagerTensor.\n",
        "  return tf.train.Feature(bytes_list=tf.train.BytesList(value=[value]))\n",
        "\n",
        "def _float_feature(value):\n",
        "  \"\"\"Returns a float_list from a float / double.\"\"\"\n",
        "  return tf.train.Feature(float_list=tf.train.FloatList(value=[value]))\n",
        "\n",
        "def _int64_feature(value):\n",
        "  \"\"\"Returns an int64_list from a bool / enum / int / uint.\"\"\"\n",
        "  return tf.train.Feature(int64_list=tf.train.Int64List(value=[value]))"
      ],
      "execution_count": 10,
      "outputs": []
    },
    {
      "cell_type": "code",
      "metadata": {
        "colab": {
          "base_uri": "https://localhost:8080/",
          "height": 35
        },
        "id": "G8claTMqNjVd",
        "outputId": "4ac45051-4b94-4395-e275-97e154f7d334"
      },
      "source": [
        "train_images[777]"
      ],
      "execution_count": 11,
      "outputs": [
        {
          "output_type": "execute_result",
          "data": {
            "application/vnd.google.colaboratory.intrinsic+json": {
              "type": "string"
            },
            "text/plain": [
              "'2185298493.jpg'"
            ]
          },
          "metadata": {
            "tags": []
          },
          "execution_count": 11
        }
      ]
    },
    {
      "cell_type": "code",
      "metadata": {
        "colab": {
          "base_uri": "https://localhost:8080/",
          "height": 35
        },
        "id": "BtbkpNdjNuBc",
        "outputId": "8b096e41-e2ea-4414-98a8-0242854f8662"
      },
      "source": [
        "file_name = train_images[777]\n",
        "file_name"
      ],
      "execution_count": 15,
      "outputs": [
        {
          "output_type": "execute_result",
          "data": {
            "application/vnd.google.colaboratory.intrinsic+json": {
              "type": "string"
            },
            "text/plain": [
              "'2185298493.jpg'"
            ]
          },
          "metadata": {
            "tags": []
          },
          "execution_count": 15
        }
      ]
    },
    {
      "cell_type": "code",
      "metadata": {
        "colab": {
          "base_uri": "https://localhost:8080/"
        },
        "id": "mcmQQC8FNsNw",
        "outputId": "3c163e9b-23d2-4280-8e94-642860940520"
      },
      "source": [
        "class_num = int(df_train[df_train.image_id == file_name].label)\n",
        "class_num"
      ],
      "execution_count": 17,
      "outputs": [
        {
          "output_type": "execute_result",
          "data": {
            "text/plain": [
              "4"
            ]
          },
          "metadata": {
            "tags": []
          },
          "execution_count": 17
        }
      ]
    },
    {
      "cell_type": "code",
      "metadata": {
        "colab": {
          "base_uri": "https://localhost:8080/",
          "height": 35
        },
        "id": "iIVV7Ni_OZQy",
        "outputId": "c75b5614-d97e-474a-805e-44e907e8b782"
      },
      "source": [
        "class_name = mapping[str(class_num)]\n",
        "class_name"
      ],
      "execution_count": 22,
      "outputs": [
        {
          "output_type": "execute_result",
          "data": {
            "application/vnd.google.colaboratory.intrinsic+json": {
              "type": "string"
            },
            "text/plain": [
              "'Healthy'"
            ]
          },
          "metadata": {
            "tags": []
          },
          "execution_count": 22
        }
      ]
    },
    {
      "cell_type": "code",
      "metadata": {
        "colab": {
          "base_uri": "https://localhost:8080/",
          "height": 470
        },
        "id": "RmqgiCrfO4pE",
        "outputId": "b9fbe39c-354d-4378-ad9f-f31abc5742b3"
      },
      "source": [
        "## Training data로 tfrecord 만들기\n",
        "n_train = 0\n",
        "\n",
        "train_files = os.listdir(train_dir)\n",
        "for train_file in train_files:\n",
        "    train_path = os.path.join(train_dir, train_file)\n",
        "    image = Image.open(train_path)\n",
        "    image = image.resize((IMG_SIZE, IMG_SIZE))\n",
        "    bimage = image.tobytes()\n",
        "\n",
        "    file_name = train_file\n",
        "    class_num = int(df_train[df_train.image_id == file_name].label)\n",
        "    class_name = mapping[str(class_num)]\n",
        "\n",
        "    example = tf.train.Example(features=tf.train.Features(feature={\n",
        "        'image': _bytes_feature(bimage),\n",
        "        'cls_num': _int64_feature(class_num)\n",
        "    }))\n",
        "    writer_train.write(example.SerializeToString())\n",
        "    n_train += 1\n",
        "    \n",
        "    if n_train % 1000 == 0:\n",
        "      print(n_train, ' completed.')\n",
        "writer_train.close()\n",
        "print(n_train)"
      ],
      "execution_count": 24,
      "outputs": [
        {
          "output_type": "stream",
          "text": [
            "1000  completed.\n",
            "2000  completed.\n",
            "3000  completed.\n",
            "4000  completed.\n",
            "5000  completed.\n",
            "6000  completed.\n",
            "7000  completed.\n"
          ],
          "name": "stdout"
        },
        {
          "output_type": "error",
          "ename": "KeyboardInterrupt",
          "evalue": "ignored",
          "traceback": [
            "\u001b[0;31m---------------------------------------------------------------------------\u001b[0m",
            "\u001b[0;31mKeyboardInterrupt\u001b[0m                         Traceback (most recent call last)",
            "\u001b[0;32m<ipython-input-24-cb21655ee9b4>\u001b[0m in \u001b[0;36m<module>\u001b[0;34m()\u001b[0m\n\u001b[1;32m      5\u001b[0m \u001b[0;32mfor\u001b[0m \u001b[0mtrain_file\u001b[0m \u001b[0;32min\u001b[0m \u001b[0mtrain_files\u001b[0m\u001b[0;34m:\u001b[0m\u001b[0;34m\u001b[0m\u001b[0;34m\u001b[0m\u001b[0m\n\u001b[1;32m      6\u001b[0m   \u001b[0mtrain_path\u001b[0m \u001b[0;34m=\u001b[0m \u001b[0mos\u001b[0m\u001b[0;34m.\u001b[0m\u001b[0mpath\u001b[0m\u001b[0;34m.\u001b[0m\u001b[0mjoin\u001b[0m\u001b[0;34m(\u001b[0m\u001b[0mtrain_dir\u001b[0m\u001b[0;34m,\u001b[0m \u001b[0mtrain_file\u001b[0m\u001b[0;34m)\u001b[0m\u001b[0;34m\u001b[0m\u001b[0;34m\u001b[0m\u001b[0m\n\u001b[0;32m----> 7\u001b[0;31m   \u001b[0mimage\u001b[0m \u001b[0;34m=\u001b[0m \u001b[0mImage\u001b[0m\u001b[0;34m.\u001b[0m\u001b[0mopen\u001b[0m\u001b[0;34m(\u001b[0m\u001b[0mtrain_path\u001b[0m\u001b[0;34m)\u001b[0m\u001b[0;34m\u001b[0m\u001b[0;34m\u001b[0m\u001b[0m\n\u001b[0m\u001b[1;32m      8\u001b[0m   \u001b[0mimage\u001b[0m \u001b[0;34m=\u001b[0m \u001b[0mimage\u001b[0m\u001b[0;34m.\u001b[0m\u001b[0mresize\u001b[0m\u001b[0;34m(\u001b[0m\u001b[0;34m(\u001b[0m\u001b[0mIMG_SIZE\u001b[0m\u001b[0;34m,\u001b[0m \u001b[0mIMG_SIZE\u001b[0m\u001b[0;34m)\u001b[0m\u001b[0;34m)\u001b[0m\u001b[0;34m\u001b[0m\u001b[0;34m\u001b[0m\u001b[0m\n\u001b[1;32m      9\u001b[0m   \u001b[0mbimage\u001b[0m \u001b[0;34m=\u001b[0m \u001b[0mimage\u001b[0m\u001b[0;34m.\u001b[0m\u001b[0mtobytes\u001b[0m\u001b[0;34m(\u001b[0m\u001b[0;34m)\u001b[0m\u001b[0;34m\u001b[0m\u001b[0;34m\u001b[0m\u001b[0m\n",
            "\u001b[0;32m/usr/local/lib/python3.7/dist-packages/PIL/Image.py\u001b[0m in \u001b[0;36mopen\u001b[0;34m(fp, mode)\u001b[0m\n\u001b[1;32m   2850\u001b[0m         \u001b[0mexclusive_fp\u001b[0m \u001b[0;34m=\u001b[0m \u001b[0;32mTrue\u001b[0m\u001b[0;34m\u001b[0m\u001b[0;34m\u001b[0m\u001b[0m\n\u001b[1;32m   2851\u001b[0m \u001b[0;34m\u001b[0m\u001b[0m\n\u001b[0;32m-> 2852\u001b[0;31m     \u001b[0mprefix\u001b[0m \u001b[0;34m=\u001b[0m \u001b[0mfp\u001b[0m\u001b[0;34m.\u001b[0m\u001b[0mread\u001b[0m\u001b[0;34m(\u001b[0m\u001b[0;36m16\u001b[0m\u001b[0;34m)\u001b[0m\u001b[0;34m\u001b[0m\u001b[0;34m\u001b[0m\u001b[0m\n\u001b[0m\u001b[1;32m   2853\u001b[0m \u001b[0;34m\u001b[0m\u001b[0m\n\u001b[1;32m   2854\u001b[0m     \u001b[0mpreinit\u001b[0m\u001b[0;34m(\u001b[0m\u001b[0;34m)\u001b[0m\u001b[0;34m\u001b[0m\u001b[0;34m\u001b[0m\u001b[0m\n",
            "\u001b[0;31mKeyboardInterrupt\u001b[0m: "
          ]
        }
      ]
    },
    {
      "cell_type": "code",
      "metadata": {
        "colab": {
          "base_uri": "https://localhost:8080/"
        },
        "id": "m6ca_gCTPPtF",
        "outputId": "7faabf13-0031-4ff1-ebe1-34ad6b0be950"
      },
      "source": [
        "## image file 수 확인\n",
        "image_files = [fname for fname in os.listdir(train_dir) if os.path.splitext(fname)[-1] == '.jpg']\n",
        "print(len(image_files))"
      ],
      "execution_count": 25,
      "outputs": [
        {
          "output_type": "stream",
          "text": [
            "17120\n"
          ],
          "name": "stdout"
        }
      ]
    },
    {
      "cell_type": "code",
      "metadata": {
        "colab": {
          "base_uri": "https://localhost:8080/",
          "height": 351
        },
        "id": "mBWKuatefX5_",
        "outputId": "3724cecd-ad0e-4b61-e1b5-6499f7c1399c"
      },
      "source": [
        "## image file들을 읽어서 channel이 3이 아닌 image는 삭제\n",
        "for image_file in image_files:\n",
        "  image_path = os.path.join(train_dir, image_file)\n",
        "  image = Image.open(image_path)\n",
        "  image_mode = image.mode\n",
        "  if image_mode != 'RGB':\n",
        "    print(image_file, image_mode)\n",
        "    image = np.asarray(image)\n",
        "    print(image.shape)\n",
        "    os.remove(image_path)"
      ],
      "execution_count": 26,
      "outputs": [
        {
          "output_type": "error",
          "ename": "KeyboardInterrupt",
          "evalue": "ignored",
          "traceback": [
            "\u001b[0;31m---------------------------------------------------------------------------\u001b[0m",
            "\u001b[0;31mKeyboardInterrupt\u001b[0m                         Traceback (most recent call last)",
            "\u001b[0;32m<ipython-input-26-0662e454c83e>\u001b[0m in \u001b[0;36m<module>\u001b[0;34m()\u001b[0m\n\u001b[1;32m      2\u001b[0m \u001b[0;32mfor\u001b[0m \u001b[0mimage_file\u001b[0m \u001b[0;32min\u001b[0m \u001b[0mimage_files\u001b[0m\u001b[0;34m:\u001b[0m\u001b[0;34m\u001b[0m\u001b[0;34m\u001b[0m\u001b[0m\n\u001b[1;32m      3\u001b[0m   \u001b[0mimage_path\u001b[0m \u001b[0;34m=\u001b[0m \u001b[0mos\u001b[0m\u001b[0;34m.\u001b[0m\u001b[0mpath\u001b[0m\u001b[0;34m.\u001b[0m\u001b[0mjoin\u001b[0m\u001b[0;34m(\u001b[0m\u001b[0mtrain_dir\u001b[0m\u001b[0;34m,\u001b[0m \u001b[0mimage_file\u001b[0m\u001b[0;34m)\u001b[0m\u001b[0;34m\u001b[0m\u001b[0;34m\u001b[0m\u001b[0m\n\u001b[0;32m----> 4\u001b[0;31m   \u001b[0mimage\u001b[0m \u001b[0;34m=\u001b[0m \u001b[0mImage\u001b[0m\u001b[0;34m.\u001b[0m\u001b[0mopen\u001b[0m\u001b[0;34m(\u001b[0m\u001b[0mimage_path\u001b[0m\u001b[0;34m)\u001b[0m\u001b[0;34m\u001b[0m\u001b[0;34m\u001b[0m\u001b[0m\n\u001b[0m\u001b[1;32m      5\u001b[0m   \u001b[0mimage_mode\u001b[0m \u001b[0;34m=\u001b[0m \u001b[0mimage\u001b[0m\u001b[0;34m.\u001b[0m\u001b[0mmode\u001b[0m\u001b[0;34m\u001b[0m\u001b[0;34m\u001b[0m\u001b[0m\n\u001b[1;32m      6\u001b[0m   \u001b[0;32mif\u001b[0m \u001b[0mimage_mode\u001b[0m \u001b[0;34m!=\u001b[0m \u001b[0;34m'RGB'\u001b[0m\u001b[0;34m:\u001b[0m\u001b[0;34m\u001b[0m\u001b[0;34m\u001b[0m\u001b[0m\n",
            "\u001b[0;32m/usr/local/lib/python3.7/dist-packages/PIL/Image.py\u001b[0m in \u001b[0;36mopen\u001b[0;34m(fp, mode)\u001b[0m\n\u001b[1;32m   2850\u001b[0m         \u001b[0mexclusive_fp\u001b[0m \u001b[0;34m=\u001b[0m \u001b[0;32mTrue\u001b[0m\u001b[0;34m\u001b[0m\u001b[0;34m\u001b[0m\u001b[0m\n\u001b[1;32m   2851\u001b[0m \u001b[0;34m\u001b[0m\u001b[0m\n\u001b[0;32m-> 2852\u001b[0;31m     \u001b[0mprefix\u001b[0m \u001b[0;34m=\u001b[0m \u001b[0mfp\u001b[0m\u001b[0;34m.\u001b[0m\u001b[0mread\u001b[0m\u001b[0;34m(\u001b[0m\u001b[0;36m16\u001b[0m\u001b[0;34m)\u001b[0m\u001b[0;34m\u001b[0m\u001b[0;34m\u001b[0m\u001b[0m\n\u001b[0m\u001b[1;32m   2853\u001b[0m \u001b[0;34m\u001b[0m\u001b[0m\n\u001b[1;32m   2854\u001b[0m     \u001b[0mpreinit\u001b[0m\u001b[0;34m(\u001b[0m\u001b[0;34m)\u001b[0m\u001b[0;34m\u001b[0m\u001b[0;34m\u001b[0m\u001b[0m\n",
            "\u001b[0;31mKeyboardInterrupt\u001b[0m: "
          ]
        }
      ]
    },
    {
      "cell_type": "code",
      "metadata": {
        "id": "CaAGLm84ff5V"
      },
      "source": [
        ""
      ],
      "execution_count": null,
      "outputs": []
    }
  ]
}